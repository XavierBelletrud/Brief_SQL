{
 "cells": [
  {
   "cell_type": "markdown",
   "metadata": {},
   "source": [
    "# 1. Réaliser une veille sur les les différents SGBD. Proposer un exemple concret d’utilisation pour argumenter vos explications. \n",
    ". 1.1 Descriptions des SGBD relationnels classiques (forces des SGBD relationnels classiques et les propriétés ACID, faiblesses des SGBD relationnels classiques) <br>\n",
    ". 1.2 Quelles sont les spécificités des systèmes NoSQL <br>\n",
    ". 1.3 Quelles sont les spécificités des systèmes NewSQL \n"
   ]
  },
  {
   "cell_type": "markdown",
   "metadata": {},
   "source": [
    "## 1.1 Descriptions des SGBD relationnels classiques (forces des SGBD relationnels classiques et les propriétés ACID, faiblesses des SGBD relationnels classiques) "
   ]
  },
  {
   "cell_type": "markdown",
   "metadata": {},
   "source": [
    "Propriété ACID : <br>\n",
    ". Atomicité <br>\n",
    ". Cohérence<br>\n",
    ". Isolation <br>\n",
    ". Durabilité <br>\n",
    "\n",
    "Andreas Reuter et Theo Härder ont inventé l’acronyme ” ACID ” en 1983. <br>\n",
    "Ressources : https://www.lebigdata.fr/acid-base-de-donnees-definition"
   ]
  },
  {
   "cell_type": "markdown",
   "metadata": {},
   "source": [
    "### Microsoft Access <br>\n",
    ". Pour qui ?  SGBDR destiné au grand public et aux PME. <br>\n",
    ". Simple d'utilisation,  dispose d'une interface graphique conviviale permettant notamment de générer des requêtes d'extraction de données grâce a des assistants ou a une technologie propriétaire appelée QBE. <br>\n",
    ". Budget beaucoup plus faible que les autres SGBDR puisque Accès est livré avec Microsoft Office pour Windows en standard.  <br>\n",
    ". Peu performant pour les bases très volumineuses car non adapté à ces dernières et  ne permet pas de créer des applications multi-plateformes car il n'est compatible qu'avec les systèmes d'exploitation Microsoft.B"
   ]
  },
  {
   "cell_type": "markdown",
   "metadata": {},
   "source": [
    "### Microsoft SQL Server\n",
    ". Pour qui ?  SGBDR beaucoup plus professionnelle qu'Access . elle est donc destinée à des applications beaucoup plus volumineuses et complexes <br>\n",
    ". Possède comme son nom l'indique de fonctions client/serveur évoluées lui permettant ainsi d'être utilisé dans de grosses infrastructures informatiques <br>\n",
    ". SQL Server peut facilement être interfacé avec les principeaux langages de programation  comme le C++, l'ASP notament grâce à la suite Visual Studio destinée aux développeurs. <br>\n",
    ". Il va de soit que cette solution est beaucoup plus onéreuse que son homologue grand public/PME (Access)."
   ]
  },
  {
   "cell_type": "markdown",
   "metadata": {},
   "source": [
    "### MySQL\n",
    ". MySQL est une base de données Open Source, c'est à dire qu'elle est totalement gratuite et qu'elle donne la possibilité aux développeurs expérimentés de la modifier à volonté pour étendre ses capacitées  <br>\n",
    ". Ce SGBDR est donc destiné à tout public, sauf pour les grosses infrastructures à cause de son manque de maturité. <br>\n",
    ". MySQL est très simple d'utilisation et s'interfaçe parfaitement avec les langages orietés wob et particulièrement le PHP."
   ]
  },
  {
   "cell_type": "markdown",
   "metadata": {},
   "source": [
    "### Oracle\n",
    ". Oracle  est le maitre des bases de données, il est le SGBDR le plus abouti et le utilisé dans les grosses entreprises notament grâce à sa fiabilité sur des bases très volumineuses <br>\n",
    ". Par exemple une banque choisira ce SGBDR sans la moindre hésitation. <br>\n",
    ". Mais qui dit fiabilité, maturité, notoriété, dit gros budget. Les PME et particuliers s'en passeront pour des altérnatives moins onéreuses.\n",
    "\n",
    "Pour info : Oracle est écrit ezn langage C , plateforme : Linux/Windows\n",
    "Oracle dispose d'un grand nombre d'interfaces (API) permettant à des programmes écrits dans divers langages de s'interfacer avec la BDD en envoyant des requêtes SQL. Ces interfaces (appelées précompilateurs) forment une famille dont le nom commence par PRO* : \n",
    "    • Pro*C <br>\n",
    "    • Pro*Cobol <br>\n",
    "    • Pro*Fortran <br>\n",
    "    • Pro*Pascal <br>\n",
    "    • Pro*PLI <br>\n",
    "(API : Bibliothèque de fonctions destinées à être utilisées par les programmeurs dans leurs applications. Ces fonctions facilitent l'écriture des programmes en fournissant des routines ( procédures ) pour gérer des éléments particuliers (affichage, pilotage de périphériques…)."
   ]
  },
  {
   "cell_type": "markdown",
   "metadata": {},
   "source": [
    "## 1.2 Quelles sont les spécificités des systèmes NoSQL"
   ]
  },
  {
   "cell_type": "markdown",
   "metadata": {},
   "source": [
    "Constat : Les bases de données Non Relationnelle(NoSQL) ont été inventées afin de palier aux différentes problématiques rencontrées avec les modèles relationnels, comme : <br>\n",
    ". Difficultés pour sauver et récupérer des grappes d’objets avec des programmes écrits en Java ou C#... (on parle de « mismatch d’impédance) <br>\n",
    ". Difficultés pour satisfaire les besoins des applications Web à grande échelle (nouveaux besoins métiers, nouvelles contraintes techniques)<br>\n",
    "\n",
    "Et voici les 3 aspects qui ont motivé la nouvelle vague de bases NoSQL (Not Only SQL..) : <br>\n",
    ". Le VOLUME des données créées double tous les 2 ans. IDC estime qu’en 2020 le volume atteindra 44 Zettabytes (1 ZB = 1 milliards de terabytes) <br>\n",
    ". La VARIÉTÉ des types de données créées (Smartphones) <br>\n",
    ". La VÉLOCITÉ avec laquelle les données changent est également très importante (Internet of Things) <br>\n",
    "\n",
    "Ressources : <br>\n",
    ". https://openclassrooms.com/fr/courses/4462426-maitrisez-les-bases-de-donnees-nosql/4462433-choisissez-votre-famille-nosql <br>\n",
    ". https://www.digora.com/fr/blog/definition-base-nosql-datastax-mongodb <br>\n",
    ". https://www.mysqltutorial.org/import-csv-file-mysql-table/ <br>\n",
    ". https://www.fun-mooc.fr/cours/#search?query=base%2Bde%2Bdonn%C3%A9e&page=1&rpp=50"
   ]
  },
  {
   "cell_type": "markdown",
   "metadata": {},
   "source": [
    "### 3. Créer une base de donnée Netflix\n"
   ]
  },
  {
   "cell_type": "code",
   "execution_count": null,
   "metadata": {},
   "outputs": [],
   "source": [
    "drop database netflix;\n",
    "create database netflix;\n",
    "use netflix;\n",
    "drop table if exists netflix_show;\n",
    "drop table if exists netflix_title;"
   ]
  },
  {
   "cell_type": "markdown",
   "metadata": {},
   "source": [
    "### 3.1 Préparation de MySQL pour faire le DATA LOAD"
   ]
  },
  {
   "cell_type": "code",
   "execution_count": null,
   "metadata": {},
   "outputs": [],
   "source": [
    "# 1ère option\n",
    "sudo mysql --local-infile=1 -u xav\n",
    "# 2ème option \n",
    ">>> show global variables like 'local_infile';\n",
    ">>> set global local_infile=true;\n",
    ">>> set global local_infile = 1;"
   ]
  },
  {
   "cell_type": "markdown",
   "metadata": {},
   "source": [
    "### 4. Créer une table appelée ‘netflix_title’, importer les données provenant du fichier netflix_titles.csv \n"
   ]
  },
  {
   "cell_type": "code",
   "execution_count": null,
   "metadata": {},
   "outputs": [],
   "source": [
    "create table netflix_title(\n",
    "show_id int,\n",
    "type_ varchar(255),\n",
    "title varchar(255),\n",
    "director varchar(255),\n",
    "cast varchar(780),\n",
    "country varchar(255),\n",
    "date_added varchar(255),\n",
    "release_year int,\n",
    "rating varchar(255),\n",
    "duration int ,\n",
    "listed_in varchar(255),\n",
    "description_ varchar(255)\n",
    ");\n",
    "\n",
    "load data local infile '/home/helloworld/Bureau/Brief/BDD/netflix_titles.csv'\n",
    "into table netflix_title\n",
    "CHARACTER SET latin1\n",
    "fields terminated by ','\n",
    "enclosed by '\"'\n",
    "LINES TERMINATED BY '\\r\\n'\n",
    "ignore 1 rows;\n",
    "\n"
   ]
  },
  {
   "cell_type": "markdown",
   "metadata": {},
   "source": [
    "### 5. Créer une table appelée ‘netflix_shows’ provenant du fichier Netflix Shows.csv "
   ]
  },
  {
   "cell_type": "code",
   "execution_count": null,
   "metadata": {},
   "outputs": [],
   "source": [
    "load data local infile '/home/helloworld/Bureau/Brief/BDD/Netflix_Shows.csv'\n",
    "into table netflix_show\n",
    "CHARACTER SET latin1\n",
    "fields terminated by ','\n",
    "enclosed by '\"'\n",
    "lines terminated by '\\n'\n",
    "ignore 1 rows;\n",
    "\n",
    "create table netflix_show(\n",
    "title varchar(255),\n",
    "rating varchar(255),\n",
    "rating_level varchar(255),\n",
    "rating_description int,\n",
    "release_year int,\n",
    "user_rating_score varchar(255),\n",
    "user_rating_size int\n",
    "\n",
    ");\n",
    "\n"
   ]
  },
  {
   "cell_type": "markdown",
   "metadata": {},
   "source": [
    "### 6. Afficher tous les titres de films de la table netflix_titles dont l’ID est inférieur strict à 80000000 "
   ]
  },
  {
   "cell_type": "code",
   "execution_count": null,
   "metadata": {},
   "outputs": [],
   "source": [
    "select title, show_id from netflix_title where show_id < 80000000;"
   ]
  },
  {
   "cell_type": "markdown",
   "metadata": {},
   "source": [
    "### 7. Afficher toutes les durée des TV Show (colonne duration)\n"
   ]
  },
  {
   "cell_type": "code",
   "execution_count": null,
   "metadata": {},
   "outputs": [],
   "source": [
    "select title, duration from netflix_title where type_='TV Show' ;"
   ]
  },
  {
   "cell_type": "markdown",
   "metadata": {},
   "source": [
    "### 9. Afficher tous les noms de films communs aux 2 tables (netflix_titles et netflix_shows) \n"
   ]
  },
  {
   "cell_type": "code",
   "execution_count": null,
   "metadata": {},
   "outputs": [],
   "source": [
    "select  distinct netflix_title.title from netflix_title, netflix_show\n",
    "where netflix_title.title = netflix_show.title;\n"
   ]
  },
  {
   "cell_type": "markdown",
   "metadata": {},
   "source": [
    "### 10. Calculer la durée totale de tous les films (Movie)S de votre table netflix_titles \n"
   ]
  },
  {
   "cell_type": "code",
   "execution_count": null,
   "metadata": {},
   "outputs": [],
   "source": [
    "select sum(duration) from netflix_title where type_ = 'Movie';"
   ]
  },
  {
   "cell_type": "markdown",
   "metadata": {},
   "source": [
    "### 11. Compter le nombre de TV Shows de votre table ‘netflix_shows’ dont le ‘ratingLevel’ est renseigné. \n"
   ]
  },
  {
   "cell_type": "code",
   "execution_count": null,
   "metadata": {},
   "outputs": [],
   "source": [
    "select count(type_) as total from netflix_title\n",
    "inner join netflix_show \n",
    "on netflix_title.title = netflix_show.title \n",
    "where rating_level is not null ;"
   ]
  },
  {
   "cell_type": "markdown",
   "metadata": {},
   "source": [
    "### 12. Compter les films et TV Shows pour lesquels les noms (title) sont les mêmes sur les 2 tables et dont le ‘release year’ est supérieur à 2016. \n"
   ]
  },
  {
   "cell_type": "code",
   "execution_count": null,
   "metadata": {},
   "outputs": [],
   "source": [
    "select count(netflix_title.title) from netflix_title\n",
    "inner join netflix_show on netflix_title.title = netflix_show.title\n",
    "where netflix_title.title = netflix_show.title\n",
    "and netflix_title.release_year > 2016 and netflix_show.release_year > 2016;"
   ]
  },
  {
   "cell_type": "markdown",
   "metadata": {},
   "source": [
    "### 13. Supprimer la colonne ‘rating’ de votre table ‘netflix_shows’ \n"
   ]
  },
  {
   "cell_type": "code",
   "execution_count": null,
   "metadata": {},
   "outputs": [],
   "source": [
    "alter table netflix_show drop rating ;"
   ]
  },
  {
   "cell_type": "markdown",
   "metadata": {},
   "source": [
    "### 14. Supprimer les 100 dernières lignes de la table ‘netflix_shows’ \n"
   ]
  },
  {
   "cell_type": "code",
   "execution_count": null,
   "metadata": {},
   "outputs": [],
   "source": [
    "# Etape 1: Créer la PRIMARY KEY\n",
    "ALTER TABLE netflix_title ADD id INT NOT NULL AUTO_INCREMENT primary key first;\n",
    "# Etape 2: Supprimer les lignes\n",
    "# Solution 1:\n",
    "delete from netflix_show where id > 900;\n",
    "# Solution 2:\n",
    "delete from netflix_shows order by id desc limit 100;"
   ]
  },
  {
   "cell_type": "markdown",
   "metadata": {},
   "source": [
    "### 15. Le champs “ratingLevel” pour le TV show “Marvel's Iron Fist” de la table ‘netflix_shows’ est vide, pouvez-vous ajouter un commentaire ? \n"
   ]
  },
  {
   "cell_type": "code",
   "execution_count": null,
   "metadata": {},
   "outputs": [],
   "source": [
    "update netflix_show\n",
    "set rating_level = 'MAMAMIA' \n",
    "where rating_level = '' and title =\"Marvel's Iron Fist\";"
   ]
  },
  {
   "cell_type": "markdown",
   "metadata": {},
   "source": [
    "### 17. Modéliser (Merise) votre Base de données netflix. Que pouvez-vous dire de cette modélisation ?"
   ]
  },
  {
   "cell_type": "code",
   "execution_count": null,
   "metadata": {},
   "outputs": [],
   "source": []
  }
 ],
 "metadata": {
  "kernelspec": {
   "display_name": "Python 3",
   "language": "python",
   "name": "python3"
  },
  "language_info": {
   "codemirror_mode": {
    "name": "ipython",
    "version": 3
   },
   "file_extension": ".py",
   "mimetype": "text/x-python",
   "name": "python",
   "nbconvert_exporter": "python",
   "pygments_lexer": "ipython3",
   "version": "3.8.3"
  }
 },
 "nbformat": 4,
 "nbformat_minor": 4
}
